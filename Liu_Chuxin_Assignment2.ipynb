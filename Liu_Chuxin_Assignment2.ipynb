{
  "cells": [
    {
      "cell_type": "code",
      "execution_count": 1,
      "metadata": {
        "id": "iBBEPc_R9v3u"
      },
      "outputs": [],
      "source": [
        "import numpy as np\n",
        "import pandas as pd\n",
        "import math\n",
        "import nltk\n",
        "from xgboost import XGBClassifier\n",
        "from sklearn.model_selection import KFold\n",
        "from sklearn.feature_extraction.text import TfidfVectorizer\n",
        "from sklearn.preprocessing import LabelEncoder\n",
        "from sklearn.preprocessing import OrdinalEncoder\n",
        "from sklearn.preprocessing import OneHotEncoder\n",
        "from sklearn.metrics import auc\n",
        "from sklearn import metrics\n",
        "from sklearn.model_selection import train_test_split\n",
        "from sklearn.linear_model import LogisticRegression\n",
        "from sklearn.linear_model import LogisticRegressionCV\n",
        "from sklearn.ensemble import RandomForestClassifier\n",
        "from sklearn.ensemble import GradientBoostingClassifier\n",
        "from sklearn.neural_network import MLPClassifier\n",
        "from sklearn.ensemble import StackingClassifier\n",
        "from sklearn.preprocessing import MinMaxScaler\n",
        "from sklearn.preprocessing import StandardScaler\n",
        "from sklearn.naive_bayes import MultinomialNB\n",
        "from sklearn.utils import shuffle"
      ]
    },
    {
      "cell_type": "markdown",
      "metadata": {
        "id": "xQw98Wlu-LuE"
      },
      "source": [
        "# Part A: Model Code and Exploration (100 pts)"
      ]
    },
    {
      "cell_type": "markdown",
      "metadata": {
        "id": "HDB58rBB-OLa"
      },
      "source": [
        "## 1. Perform Exploratory Data Analysis (EDA) and discuss the data and what you observe prior to beginning modeling and how impact how to proceed [10 pts]"
      ]
    },
    {
      "cell_type": "markdown",
      "metadata": {
        "id": "fRzDJZdECF4H"
      },
      "source": [
        "### (1) Read in both datasets, shuffle the training, reset index for the testing, and append together. Print a list of columns for exploration."
      ]
    },
    {
      "cell_type": "code",
      "execution_count": 2,
      "metadata": {
        "colab": {
          "base_uri": "https://localhost:8080/"
        },
        "id": "FNrz6lWq-DiX",
        "outputId": "1272914c-ec9b-411b-cace-a4de93fa2074"
      },
      "outputs": [
        {
          "output_type": "stream",
          "name": "stdout",
          "text": [
            "Number of variables: 51\n",
            "['race', 'gender', 'age', 'weight', 'admission_type_id', 'discharge_disposition_id', 'admission_source_id', 'time_in_hospital', 'payer_code', 'medical_specialty', 'num_lab_procedures', 'num_procedures', 'num_medications', 'number_outpatient', 'number_emergency', 'number_inpatient', 'diag_1', 'diag_2', 'diag_3', 'number_diagnoses', 'max_glu_serum', 'A1Cresult', 'metformin', 'repaglinide', 'nateglinide', 'chlorpropamide', 'glimepiride', 'acetohexamide', 'glipizide', 'glyburide', 'tolbutamide', 'pioglitazone', 'rosiglitazone', 'acarbose', 'miglitol', 'troglitazone', 'tolazamide', 'examide', 'citoglipton', 'insulin', 'glyburide.metformin', 'glipizide.metformin', 'glimepiride.pioglitazone', 'metformin.rosiglitazone', 'metformin.pioglitazone', 'change', 'diabetesMed', 'readmitted', 'diag_1_desc', 'diag_2_desc', 'diag_3_desc']\n"
          ]
        }
      ],
      "source": [
        "df8k = pd.read_csv('8k_diabetes.csv')\n",
        "print('Number of variables:', len(list(df8k.columns)))\n",
        "print(list(df8k.columns))"
      ]
    },
    {
      "cell_type": "code",
      "execution_count": 3,
      "metadata": {
        "id": "wLvE6KWm2GfM"
      },
      "outputs": [],
      "source": [
        "# shuffle 8k patients before appending with 2k patients\n",
        "df8k_s = shuffle(df8k)\n",
        "df8k_s['i'] = range(0,8000)\n",
        "df8k_idx = df8k_s.set_index('i')"
      ]
    },
    {
      "cell_type": "code",
      "execution_count": 4,
      "metadata": {
        "id": "DacLwLg0H-Ju"
      },
      "outputs": [],
      "source": [
        "# append 2k patients with 8k patients\n",
        "df2k = pd.read_csv('2k_diabetes_scoring.csv')\n",
        "df2k['i'] = range(8000,10000)\n",
        "df2k = df2k.set_index('i')\n",
        "df = df8k_idx.append(df2k)"
      ]
    },
    {
      "cell_type": "markdown",
      "metadata": {
        "id": "o3ib41FYCF4J"
      },
      "source": [
        "### (2) Explore: Target, missing values\n",
        "#### - Target: not a rare target"
      ]
    },
    {
      "cell_type": "code",
      "execution_count": 5,
      "metadata": {
        "colab": {
          "base_uri": "https://localhost:8080/"
        },
        "id": "635rbGexCF4J",
        "outputId": "4ce9e137-5fcf-490c-8e64-82a7cb7c7550"
      },
      "outputs": [
        {
          "output_type": "stream",
          "name": "stdout",
          "text": [
            "False    4822\n",
            "True     3178\n",
            "Name: readmitted, dtype: int64\n"
          ]
        },
        {
          "output_type": "execute_result",
          "data": {
            "text/plain": [
              "count    10000.000000\n",
              "mean         0.317800\n",
              "std          0.465645\n",
              "min          0.000000\n",
              "25%          0.000000\n",
              "50%          0.000000\n",
              "75%          1.000000\n",
              "max          1.000000\n",
              "Name: y, dtype: float64"
            ]
          },
          "metadata": {},
          "execution_count": 5
        }
      ],
      "source": [
        "# Target\n",
        "print(df['readmitted'].value_counts())\n",
        "df[\"y\"] = 0\n",
        "df.loc[df[\"readmitted\"]==True, 'y'] = 1\n",
        "y = 'y'\n",
        "df['y'].describe()"
      ]
    },
    {
      "cell_type": "markdown",
      "metadata": {
        "id": "tY8LslCoCF4K"
      },
      "source": [
        "#### - numerical data can be described\n",
        "##### (1) luckily, none of them have missing values\n",
        "##### (2) Requires normalization\n"
      ]
    },
    {
      "cell_type": "code",
      "execution_count": 6,
      "metadata": {
        "colab": {
          "base_uri": "https://localhost:8080/",
          "height": 372
        },
        "id": "tiizh8WlCF4K",
        "outputId": "d53976d6-2a57-4938-f863-faaac6eb9299"
      },
      "outputs": [
        {
          "output_type": "stream",
          "name": "stdout",
          "text": [
            "['time_in_hospital', 'num_lab_procedures', 'num_procedures', 'num_medications', 'number_outpatient', 'number_emergency', 'number_inpatient', 'number_diagnoses', 'y']\n"
          ]
        },
        {
          "output_type": "execute_result",
          "data": {
            "text/plain": [
              "       time_in_hospital  num_lab_procedures  num_procedures  num_medications  \\\n",
              "count      10000.000000        10000.000000    10000.000000     10000.000000   \n",
              "mean           4.434700           43.078600        1.399200        15.563800   \n",
              "std            3.021597           19.453315        1.706438         8.391613   \n",
              "min            1.000000            1.000000        0.000000         1.000000   \n",
              "25%            2.000000           32.000000        0.000000        10.000000   \n",
              "50%            4.000000           44.000000        1.000000        14.000000   \n",
              "75%            6.000000           57.000000        2.000000        19.000000   \n",
              "max           14.000000          120.000000        6.000000        81.000000   \n",
              "\n",
              "       number_outpatient  number_emergency  number_inpatient  number_diagnoses  \n",
              "count       10000.000000      10000.000000      10000.000000      10000.000000  \n",
              "mean            0.281700          0.115000          0.387300          7.025300  \n",
              "std             1.119406          0.649475          0.854267          2.020957  \n",
              "min             0.000000          0.000000          0.000000          1.000000  \n",
              "25%             0.000000          0.000000          0.000000          5.000000  \n",
              "50%             0.000000          0.000000          0.000000          7.000000  \n",
              "75%             0.000000          0.000000          0.000000          9.000000  \n",
              "max            36.000000         42.000000         10.000000          9.000000  "
            ],
            "text/html": [
              "\n",
              "  <div id=\"df-d98da2d5-68ec-4785-90e0-e8b7fc59c451\">\n",
              "    <div class=\"colab-df-container\">\n",
              "      <div>\n",
              "<style scoped>\n",
              "    .dataframe tbody tr th:only-of-type {\n",
              "        vertical-align: middle;\n",
              "    }\n",
              "\n",
              "    .dataframe tbody tr th {\n",
              "        vertical-align: top;\n",
              "    }\n",
              "\n",
              "    .dataframe thead th {\n",
              "        text-align: right;\n",
              "    }\n",
              "</style>\n",
              "<table border=\"1\" class=\"dataframe\">\n",
              "  <thead>\n",
              "    <tr style=\"text-align: right;\">\n",
              "      <th></th>\n",
              "      <th>time_in_hospital</th>\n",
              "      <th>num_lab_procedures</th>\n",
              "      <th>num_procedures</th>\n",
              "      <th>num_medications</th>\n",
              "      <th>number_outpatient</th>\n",
              "      <th>number_emergency</th>\n",
              "      <th>number_inpatient</th>\n",
              "      <th>number_diagnoses</th>\n",
              "    </tr>\n",
              "  </thead>\n",
              "  <tbody>\n",
              "    <tr>\n",
              "      <th>count</th>\n",
              "      <td>10000.000000</td>\n",
              "      <td>10000.000000</td>\n",
              "      <td>10000.000000</td>\n",
              "      <td>10000.000000</td>\n",
              "      <td>10000.000000</td>\n",
              "      <td>10000.000000</td>\n",
              "      <td>10000.000000</td>\n",
              "      <td>10000.000000</td>\n",
              "    </tr>\n",
              "    <tr>\n",
              "      <th>mean</th>\n",
              "      <td>4.434700</td>\n",
              "      <td>43.078600</td>\n",
              "      <td>1.399200</td>\n",
              "      <td>15.563800</td>\n",
              "      <td>0.281700</td>\n",
              "      <td>0.115000</td>\n",
              "      <td>0.387300</td>\n",
              "      <td>7.025300</td>\n",
              "    </tr>\n",
              "    <tr>\n",
              "      <th>std</th>\n",
              "      <td>3.021597</td>\n",
              "      <td>19.453315</td>\n",
              "      <td>1.706438</td>\n",
              "      <td>8.391613</td>\n",
              "      <td>1.119406</td>\n",
              "      <td>0.649475</td>\n",
              "      <td>0.854267</td>\n",
              "      <td>2.020957</td>\n",
              "    </tr>\n",
              "    <tr>\n",
              "      <th>min</th>\n",
              "      <td>1.000000</td>\n",
              "      <td>1.000000</td>\n",
              "      <td>0.000000</td>\n",
              "      <td>1.000000</td>\n",
              "      <td>0.000000</td>\n",
              "      <td>0.000000</td>\n",
              "      <td>0.000000</td>\n",
              "      <td>1.000000</td>\n",
              "    </tr>\n",
              "    <tr>\n",
              "      <th>25%</th>\n",
              "      <td>2.000000</td>\n",
              "      <td>32.000000</td>\n",
              "      <td>0.000000</td>\n",
              "      <td>10.000000</td>\n",
              "      <td>0.000000</td>\n",
              "      <td>0.000000</td>\n",
              "      <td>0.000000</td>\n",
              "      <td>5.000000</td>\n",
              "    </tr>\n",
              "    <tr>\n",
              "      <th>50%</th>\n",
              "      <td>4.000000</td>\n",
              "      <td>44.000000</td>\n",
              "      <td>1.000000</td>\n",
              "      <td>14.000000</td>\n",
              "      <td>0.000000</td>\n",
              "      <td>0.000000</td>\n",
              "      <td>0.000000</td>\n",
              "      <td>7.000000</td>\n",
              "    </tr>\n",
              "    <tr>\n",
              "      <th>75%</th>\n",
              "      <td>6.000000</td>\n",
              "      <td>57.000000</td>\n",
              "      <td>2.000000</td>\n",
              "      <td>19.000000</td>\n",
              "      <td>0.000000</td>\n",
              "      <td>0.000000</td>\n",
              "      <td>0.000000</td>\n",
              "      <td>9.000000</td>\n",
              "    </tr>\n",
              "    <tr>\n",
              "      <th>max</th>\n",
              "      <td>14.000000</td>\n",
              "      <td>120.000000</td>\n",
              "      <td>6.000000</td>\n",
              "      <td>81.000000</td>\n",
              "      <td>36.000000</td>\n",
              "      <td>42.000000</td>\n",
              "      <td>10.000000</td>\n",
              "      <td>9.000000</td>\n",
              "    </tr>\n",
              "  </tbody>\n",
              "</table>\n",
              "</div>\n",
              "      <button class=\"colab-df-convert\" onclick=\"convertToInteractive('df-d98da2d5-68ec-4785-90e0-e8b7fc59c451')\"\n",
              "              title=\"Convert this dataframe to an interactive table.\"\n",
              "              style=\"display:none;\">\n",
              "        \n",
              "  <svg xmlns=\"http://www.w3.org/2000/svg\" height=\"24px\"viewBox=\"0 0 24 24\"\n",
              "       width=\"24px\">\n",
              "    <path d=\"M0 0h24v24H0V0z\" fill=\"none\"/>\n",
              "    <path d=\"M18.56 5.44l.94 2.06.94-2.06 2.06-.94-2.06-.94-.94-2.06-.94 2.06-2.06.94zm-11 1L8.5 8.5l.94-2.06 2.06-.94-2.06-.94L8.5 2.5l-.94 2.06-2.06.94zm10 10l.94 2.06.94-2.06 2.06-.94-2.06-.94-.94-2.06-.94 2.06-2.06.94z\"/><path d=\"M17.41 7.96l-1.37-1.37c-.4-.4-.92-.59-1.43-.59-.52 0-1.04.2-1.43.59L10.3 9.45l-7.72 7.72c-.78.78-.78 2.05 0 2.83L4 21.41c.39.39.9.59 1.41.59.51 0 1.02-.2 1.41-.59l7.78-7.78 2.81-2.81c.8-.78.8-2.07 0-2.86zM5.41 20L4 18.59l7.72-7.72 1.47 1.35L5.41 20z\"/>\n",
              "  </svg>\n",
              "      </button>\n",
              "      \n",
              "  <style>\n",
              "    .colab-df-container {\n",
              "      display:flex;\n",
              "      flex-wrap:wrap;\n",
              "      gap: 12px;\n",
              "    }\n",
              "\n",
              "    .colab-df-convert {\n",
              "      background-color: #E8F0FE;\n",
              "      border: none;\n",
              "      border-radius: 50%;\n",
              "      cursor: pointer;\n",
              "      display: none;\n",
              "      fill: #1967D2;\n",
              "      height: 32px;\n",
              "      padding: 0 0 0 0;\n",
              "      width: 32px;\n",
              "    }\n",
              "\n",
              "    .colab-df-convert:hover {\n",
              "      background-color: #E2EBFA;\n",
              "      box-shadow: 0px 1px 2px rgba(60, 64, 67, 0.3), 0px 1px 3px 1px rgba(60, 64, 67, 0.15);\n",
              "      fill: #174EA6;\n",
              "    }\n",
              "\n",
              "    [theme=dark] .colab-df-convert {\n",
              "      background-color: #3B4455;\n",
              "      fill: #D2E3FC;\n",
              "    }\n",
              "\n",
              "    [theme=dark] .colab-df-convert:hover {\n",
              "      background-color: #434B5C;\n",
              "      box-shadow: 0px 1px 3px 1px rgba(0, 0, 0, 0.15);\n",
              "      filter: drop-shadow(0px 1px 2px rgba(0, 0, 0, 0.3));\n",
              "      fill: #FFFFFF;\n",
              "    }\n",
              "  </style>\n",
              "\n",
              "      <script>\n",
              "        const buttonEl =\n",
              "          document.querySelector('#df-d98da2d5-68ec-4785-90e0-e8b7fc59c451 button.colab-df-convert');\n",
              "        buttonEl.style.display =\n",
              "          google.colab.kernel.accessAllowed ? 'block' : 'none';\n",
              "\n",
              "        async function convertToInteractive(key) {\n",
              "          const element = document.querySelector('#df-d98da2d5-68ec-4785-90e0-e8b7fc59c451');\n",
              "          const dataTable =\n",
              "            await google.colab.kernel.invokeFunction('convertToInteractive',\n",
              "                                                     [key], {});\n",
              "          if (!dataTable) return;\n",
              "\n",
              "          const docLinkHtml = 'Like what you see? Visit the ' +\n",
              "            '<a target=\"_blank\" href=https://colab.research.google.com/notebooks/data_table.ipynb>data table notebook</a>'\n",
              "            + ' to learn more about interactive tables.';\n",
              "          element.innerHTML = '';\n",
              "          dataTable['output_type'] = 'display_data';\n",
              "          await google.colab.output.renderOutput(dataTable, element);\n",
              "          const docLink = document.createElement('div');\n",
              "          docLink.innerHTML = docLinkHtml;\n",
              "          element.appendChild(docLink);\n",
              "        }\n",
              "      </script>\n",
              "    </div>\n",
              "  </div>\n",
              "  "
            ]
          },
          "metadata": {},
          "execution_count": 6
        }
      ],
      "source": [
        "print(list(df.describe().columns))\n",
        "num_data = list(df.describe().columns)\n",
        "num_data.remove('y')\n",
        "df[num_data].describe()"
      ]
    },
    {
      "cell_type": "markdown",
      "metadata": {
        "id": "nSU5vqpECF4K"
      },
      "source": [
        "#### - Missing Values: impute or create dummies "
      ]
    },
    {
      "cell_type": "code",
      "execution_count": 7,
      "metadata": {
        "colab": {
          "base_uri": "https://localhost:8080/"
        },
        "id": "RFOWB6FzCF4L",
        "outputId": "0074a852-5d9e-46f2-bef2-097e171d6915"
      },
      "outputs": [
        {
          "output_type": "stream",
          "name": "stdout",
          "text": [
            "admission_type_id has 721 missing values;\n",
            "discharge_disposition_id has 469 missing values;\n",
            "admission_source_id has 936 missing values;\n",
            "readmitted has 2000 missing values;\n",
            "diag_1_desc has 2 missing values;\n",
            "diag_2_desc has 59 missing values;\n",
            "diag_3_desc has 208 missing values;\n"
          ]
        }
      ],
      "source": [
        "# Missing values\n",
        "mdict = df.isnull().sum().to_dict()\n",
        "for i in mdict.keys():\n",
        "    if mdict[i]!=0: print(i,\"has\", mdict[i], 'missing values;')"
      ]
    },
    {
      "cell_type": "markdown",
      "metadata": {
        "id": "eAt_fl4uCF4L"
      },
      "source": [
        "#### - \"ID“ values: use One-Hot encoding, create extra dummy for the missing"
      ]
    },
    {
      "cell_type": "code",
      "execution_count": 8,
      "metadata": {
        "id": "UbOMM0vgCF4S"
      },
      "outputs": [],
      "source": [
        "# admission_type_id has 576 missing values;\n",
        "# discharge_disposition_id has 373 missing values;\n",
        "# admission_source_id has 750 missing values;"
      ]
    },
    {
      "cell_type": "markdown",
      "metadata": {
        "id": "PNVOqexkCF4S"
      },
      "source": [
        "#### - Text data: concatenate 3 columns into 1, and use TF-IDF"
      ]
    },
    {
      "cell_type": "code",
      "execution_count": 9,
      "metadata": {
        "colab": {
          "base_uri": "https://localhost:8080/",
          "height": 231
        },
        "id": "I8PS363zCF4S",
        "outputId": "96bbdf54-ae5d-43d5-837c-3c110df646ef"
      },
      "outputs": [
        {
          "output_type": "execute_result",
          "data": {
            "text/plain": [
              "                                         diag_1_desc  \\\n",
              "i                                                      \n",
              "0                               Obesity, unspecified   \n",
              "1      Osteoarthrosis, generalized, site unspecified   \n",
              "2  Diabetes with peripheral circulatory disorders...   \n",
              "3                                 Acute pancreatitis   \n",
              "4  Closed fracture of intracapsular section of ne...   \n",
              "\n",
              "                                         diag_2_desc  \\\n",
              "i                                                      \n",
              "0  Diabetes mellitus without mention of complicat...   \n",
              "1           Nervous system complication, unspecified   \n",
              "2                     Cellulitis and abscess of face   \n",
              "3                                    Intussusception   \n",
              "4            Paroxysmal supraventricular tachycardia   \n",
              "\n",
              "                                         diag_3_desc  \n",
              "i                                                     \n",
              "0  Coronary atherosclerosis of unspecified type o...  \n",
              "1                 Postmyocardial infarction syndrome  \n",
              "2                           Atherosclerosis of aorta  \n",
              "3  Diabetes mellitus without mention of complicat...  \n",
              "4                               Sideroblastic anemia  "
            ],
            "text/html": [
              "\n",
              "  <div id=\"df-2e6571bd-553e-47a4-b4d0-1b087f12d332\">\n",
              "    <div class=\"colab-df-container\">\n",
              "      <div>\n",
              "<style scoped>\n",
              "    .dataframe tbody tr th:only-of-type {\n",
              "        vertical-align: middle;\n",
              "    }\n",
              "\n",
              "    .dataframe tbody tr th {\n",
              "        vertical-align: top;\n",
              "    }\n",
              "\n",
              "    .dataframe thead th {\n",
              "        text-align: right;\n",
              "    }\n",
              "</style>\n",
              "<table border=\"1\" class=\"dataframe\">\n",
              "  <thead>\n",
              "    <tr style=\"text-align: right;\">\n",
              "      <th></th>\n",
              "      <th>diag_1_desc</th>\n",
              "      <th>diag_2_desc</th>\n",
              "      <th>diag_3_desc</th>\n",
              "    </tr>\n",
              "    <tr>\n",
              "      <th>i</th>\n",
              "      <th></th>\n",
              "      <th></th>\n",
              "      <th></th>\n",
              "    </tr>\n",
              "  </thead>\n",
              "  <tbody>\n",
              "    <tr>\n",
              "      <th>0</th>\n",
              "      <td>Obesity, unspecified</td>\n",
              "      <td>Diabetes mellitus without mention of complicat...</td>\n",
              "      <td>Coronary atherosclerosis of unspecified type o...</td>\n",
              "    </tr>\n",
              "    <tr>\n",
              "      <th>1</th>\n",
              "      <td>Osteoarthrosis, generalized, site unspecified</td>\n",
              "      <td>Nervous system complication, unspecified</td>\n",
              "      <td>Postmyocardial infarction syndrome</td>\n",
              "    </tr>\n",
              "    <tr>\n",
              "      <th>2</th>\n",
              "      <td>Diabetes with peripheral circulatory disorders...</td>\n",
              "      <td>Cellulitis and abscess of face</td>\n",
              "      <td>Atherosclerosis of aorta</td>\n",
              "    </tr>\n",
              "    <tr>\n",
              "      <th>3</th>\n",
              "      <td>Acute pancreatitis</td>\n",
              "      <td>Intussusception</td>\n",
              "      <td>Diabetes mellitus without mention of complicat...</td>\n",
              "    </tr>\n",
              "    <tr>\n",
              "      <th>4</th>\n",
              "      <td>Closed fracture of intracapsular section of ne...</td>\n",
              "      <td>Paroxysmal supraventricular tachycardia</td>\n",
              "      <td>Sideroblastic anemia</td>\n",
              "    </tr>\n",
              "  </tbody>\n",
              "</table>\n",
              "</div>\n",
              "      <button class=\"colab-df-convert\" onclick=\"convertToInteractive('df-2e6571bd-553e-47a4-b4d0-1b087f12d332')\"\n",
              "              title=\"Convert this dataframe to an interactive table.\"\n",
              "              style=\"display:none;\">\n",
              "        \n",
              "  <svg xmlns=\"http://www.w3.org/2000/svg\" height=\"24px\"viewBox=\"0 0 24 24\"\n",
              "       width=\"24px\">\n",
              "    <path d=\"M0 0h24v24H0V0z\" fill=\"none\"/>\n",
              "    <path d=\"M18.56 5.44l.94 2.06.94-2.06 2.06-.94-2.06-.94-.94-2.06-.94 2.06-2.06.94zm-11 1L8.5 8.5l.94-2.06 2.06-.94-2.06-.94L8.5 2.5l-.94 2.06-2.06.94zm10 10l.94 2.06.94-2.06 2.06-.94-2.06-.94-.94-2.06-.94 2.06-2.06.94z\"/><path d=\"M17.41 7.96l-1.37-1.37c-.4-.4-.92-.59-1.43-.59-.52 0-1.04.2-1.43.59L10.3 9.45l-7.72 7.72c-.78.78-.78 2.05 0 2.83L4 21.41c.39.39.9.59 1.41.59.51 0 1.02-.2 1.41-.59l7.78-7.78 2.81-2.81c.8-.78.8-2.07 0-2.86zM5.41 20L4 18.59l7.72-7.72 1.47 1.35L5.41 20z\"/>\n",
              "  </svg>\n",
              "      </button>\n",
              "      \n",
              "  <style>\n",
              "    .colab-df-container {\n",
              "      display:flex;\n",
              "      flex-wrap:wrap;\n",
              "      gap: 12px;\n",
              "    }\n",
              "\n",
              "    .colab-df-convert {\n",
              "      background-color: #E8F0FE;\n",
              "      border: none;\n",
              "      border-radius: 50%;\n",
              "      cursor: pointer;\n",
              "      display: none;\n",
              "      fill: #1967D2;\n",
              "      height: 32px;\n",
              "      padding: 0 0 0 0;\n",
              "      width: 32px;\n",
              "    }\n",
              "\n",
              "    .colab-df-convert:hover {\n",
              "      background-color: #E2EBFA;\n",
              "      box-shadow: 0px 1px 2px rgba(60, 64, 67, 0.3), 0px 1px 3px 1px rgba(60, 64, 67, 0.15);\n",
              "      fill: #174EA6;\n",
              "    }\n",
              "\n",
              "    [theme=dark] .colab-df-convert {\n",
              "      background-color: #3B4455;\n",
              "      fill: #D2E3FC;\n",
              "    }\n",
              "\n",
              "    [theme=dark] .colab-df-convert:hover {\n",
              "      background-color: #434B5C;\n",
              "      box-shadow: 0px 1px 3px 1px rgba(0, 0, 0, 0.15);\n",
              "      filter: drop-shadow(0px 1px 2px rgba(0, 0, 0, 0.3));\n",
              "      fill: #FFFFFF;\n",
              "    }\n",
              "  </style>\n",
              "\n",
              "      <script>\n",
              "        const buttonEl =\n",
              "          document.querySelector('#df-2e6571bd-553e-47a4-b4d0-1b087f12d332 button.colab-df-convert');\n",
              "        buttonEl.style.display =\n",
              "          google.colab.kernel.accessAllowed ? 'block' : 'none';\n",
              "\n",
              "        async function convertToInteractive(key) {\n",
              "          const element = document.querySelector('#df-2e6571bd-553e-47a4-b4d0-1b087f12d332');\n",
              "          const dataTable =\n",
              "            await google.colab.kernel.invokeFunction('convertToInteractive',\n",
              "                                                     [key], {});\n",
              "          if (!dataTable) return;\n",
              "\n",
              "          const docLinkHtml = 'Like what you see? Visit the ' +\n",
              "            '<a target=\"_blank\" href=https://colab.research.google.com/notebooks/data_table.ipynb>data table notebook</a>'\n",
              "            + ' to learn more about interactive tables.';\n",
              "          element.innerHTML = '';\n",
              "          dataTable['output_type'] = 'display_data';\n",
              "          await google.colab.output.renderOutput(dataTable, element);\n",
              "          const docLink = document.createElement('div');\n",
              "          docLink.innerHTML = docLinkHtml;\n",
              "          element.appendChild(docLink);\n",
              "        }\n",
              "      </script>\n",
              "    </div>\n",
              "  </div>\n",
              "  "
            ]
          },
          "metadata": {},
          "execution_count": 9
        }
      ],
      "source": [
        "text_data = ['diag_1_desc', 'diag_2_desc', 'diag_3_desc']\n",
        "text_code = ['diag_1', 'diag_2', 'diag_3']\n",
        "df[text_data].head()"
      ]
    },
    {
      "cell_type": "markdown",
      "metadata": {
        "id": "UOSRs4qgCF4T"
      },
      "source": [
        "#### - Categorical data and requires encoding\n",
        "1. features without variations should be thrown away.\n",
        "2. Ordinal Encoding: age, weight, max_glu_serum, A1Cresult, and features that indicate \"up\" and \"down\"\n",
        "3. One-Hot Encoding: other features"
      ]
    },
    {
      "cell_type": "code",
      "execution_count": 10,
      "metadata": {
        "id": "PMepbIc2CF4T",
        "colab": {
          "base_uri": "https://localhost:8080/"
        },
        "outputId": "aed44199-e9c5-4fa8-c4f1-50e4c34a312b"
      },
      "outputs": [
        {
          "output_type": "stream",
          "name": "stdout",
          "text": [
            "['race', 'gender', 'age', 'weight', 'admission_type_id', 'discharge_disposition_id', 'admission_source_id', 'payer_code', 'medical_specialty', 'diag_1', 'diag_2', 'diag_3', 'max_glu_serum', 'A1Cresult', 'metformin', 'repaglinide', 'nateglinide', 'chlorpropamide', 'glimepiride', 'glipizide', 'glyburide', 'pioglitazone', 'rosiglitazone', 'acarbose', 'insulin', 'glyburide.metformin', 'change', 'diabetesMed']\n",
            "--- * Category: race\n",
            "race          ?  AfricanAmerican  Asian  Caucasian  Hispanic  Other\n",
            "readmitted                                                         \n",
            "False       140             1080     24       3418        94     66\n",
            "True         40              559     19       2473        52     35\n",
            "--- * Category: gender\n",
            "gender      Female  Male\n",
            "readmitted              \n",
            "False         2596  2226\n",
            "True          1718  1460\n",
            "--- * Category: age\n",
            "age         [0-10)  [10-20)  [20-30)  [30-40)  [40-50)  [50-60)  [60-70)  \\\n",
            "readmitted                                                                 \n",
            "False           24       51       80      232      516      865     1039   \n",
            "True             3       14       37      108      284      526      710   \n",
            "\n",
            "age         [70-80)  [80-90)  [90-100)  \n",
            "readmitted                              \n",
            "False          1162      705       148  \n",
            "True            887      543        66  \n",
            "--- * Category: weight\n",
            "weight         ?  [0-25)  [100-125)  [125-150)  [150-175)  [25-50)  [50-75)  \\\n",
            "readmitted                                                                    \n",
            "False       4707       0         24          4          0        4       36   \n",
            "True        2968       5         37          8          4        6       59   \n",
            "\n",
            "weight      [75-100)  \n",
            "readmitted            \n",
            "False             47  \n",
            "True              91  \n",
            "--- * Category: admission_type_id\n",
            "admission_type_id  Elective  Emergency  Newborn  Not Available  Not Mapped  \\\n",
            "readmitted                                                                   \n",
            "False                   877       2386        1            314          21   \n",
            "True                    524       1582        0            162          12   \n",
            "\n",
            "admission_type_id  Urgent  \n",
            "readmitted                 \n",
            "False                 941  \n",
            "True                  604  \n",
            "--- * Category: discharge_disposition_id\n",
            "discharge_disposition_id  Admitted as an inpatient to this hospital  \\\n",
            "readmitted                                                            \n",
            "False                                                             0   \n",
            "True                                                              1   \n",
            "\n",
            "discharge_disposition_id  Discharged to home  Discharged/transferred to ICF  \\\n",
            "readmitted                                                                    \n",
            "False                                   2959                             52   \n",
            "True                                    1920                             23   \n",
            "\n",
            "discharge_disposition_id  Discharged/transferred to SNF  \\\n",
            "readmitted                                                \n",
            "False                                               531   \n",
            "True                                                417   \n",
            "\n",
            "discharge_disposition_id  Discharged/transferred to a federal health care facility.  \\\n",
            "readmitted                                                                            \n",
            "False                                                                     1           \n",
            "True                                                                      0           \n",
            "\n",
            "discharge_disposition_id  Discharged/transferred to a long term care hospital.  \\\n",
            "readmitted                                                                       \n",
            "False                                                                    24      \n",
            "True                                                                     16      \n",
            "\n",
            "discharge_disposition_id  Discharged/transferred to a nursing facility certified under Medicaid but not certified under Medicare  \\\n",
            "readmitted                                                                                                                         \n",
            "False                                                                     1                                                        \n",
            "True                                                                      0                                                        \n",
            "\n",
            "discharge_disposition_id  Discharged/transferred to another  type of inpatient care institution  \\\n",
            "readmitted                                                                                        \n",
            "False                                                                    64                       \n",
            "True                                                                     47                       \n",
            "\n",
            "discharge_disposition_id  Discharged/transferred to another rehab fac including rehab units of a hospital.  \\\n",
            "readmitted                                                                                                   \n",
            "False                                                                    74                                  \n",
            "True                                                                     66                                  \n",
            "\n",
            "discharge_disposition_id  Discharged/transferred to another short term hospital  \\\n",
            "readmitted                                                                        \n",
            "False                                                                    97       \n",
            "True                                                                     59       \n",
            "\n",
            "discharge_disposition_id  ...  \\\n",
            "readmitted                ...   \n",
            "False                     ...   \n",
            "True                      ...   \n",
            "\n",
            "discharge_disposition_id  Discharged/transferred to home with home health service  \\\n",
            "readmitted                                                                          \n",
            "False                                                                   452         \n",
            "True                                                                    460         \n",
            "\n",
            "discharge_disposition_id  Discharged/transferred within this institution to Medicare approved swing bed  \\\n",
            "readmitted                                                                                                \n",
            "False                                                                     1                               \n",
            "True                                                                      1                               \n",
            "\n",
            "discharge_disposition_id  Discharged/transferred/referred another institution for outpatient services  \\\n",
            "readmitted                                                                                              \n",
            "False                                                                     1                             \n",
            "True                                                                      0                             \n",
            "\n",
            "discharge_disposition_id  Discharged/transferred/referred to a psychiatric hospital of a psychiatric distinct part unit of a hospital  \\\n",
            "readmitted                                                                                                                              \n",
            "False                                                                     4                                                             \n",
            "True                                                                      4                                                             \n",
            "\n",
            "discharge_disposition_id  Discharged/transferred/referred to this institution for outpatient services  \\\n",
            "readmitted                                                                                              \n",
            "False                                                                     1                             \n",
            "True                                                                      0                             \n",
            "\n",
            "discharge_disposition_id  Expired  Hospice / home  Hospice / medical facility  \\\n",
            "readmitted                                                                      \n",
            "False                         154              27                          21   \n",
            "True                            0               2                           3   \n",
            "\n",
            "discharge_disposition_id  Left AMA  Not Mapped  \n",
            "readmitted                                      \n",
            "False                           17          68  \n",
            "True                            16          31  \n",
            "\n",
            "[2 rows x 21 columns]\n",
            "--- * Category: admission_source_id\n",
            "admission_source_id  Clinic Referral  Court/Law Enforcement  Emergency Room  \\\n",
            "readmitted                                                                    \n",
            "False                             92                      0            2247   \n",
            "True                              42                      1            1722   \n",
            "\n",
            "admission_source_id  HMO Referral  Not Available  Not Mapped  \\\n",
            "readmitted                                                     \n",
            "False                          19             11           4   \n",
            "True                           10              2          12   \n",
            "\n",
            "admission_source_id  Physician Referral  \\\n",
            "readmitted                                \n",
            "False                              1471   \n",
            "True                                916   \n",
            "\n",
            "admission_source_id  Transfer from a Skilled Nursing Facility (SNF)  \\\n",
            "readmitted                                                            \n",
            "False                                                            67   \n",
            "True                                                             26   \n",
            "\n",
            "admission_source_id  Transfer from a hospital  \\\n",
            "readmitted                                      \n",
            "False                                     240   \n",
            "True                                       82   \n",
            "\n",
            "admission_source_id  Transfer from another health care facility  \n",
            "readmitted                                                       \n",
            "False                                                       222  \n",
            "True                                                         64  \n",
            "--- * Category: payer_code\n",
            "payer_code     ?   BC  CH  CM  CP  DM   HM    MC   MD  OG  OT  PO  SI   SP  \\\n",
            "readmitted                                                                   \n",
            "False       2579  227   5  38  84  24  234  1143  125  24   1  21   6  140   \n",
            "True        1681   81   3  44  77  19  139   871   63  13   4  17   2   94   \n",
            "\n",
            "payer_code   UN  WC  \n",
            "readmitted           \n",
            "False       165   6  \n",
            "True         67   3  \n",
            "--- * Category: medical_specialty\n",
            "medical_specialty     ?  Anesthesiology-Pediatric  Cardiology  \\\n",
            "readmitted                                                      \n",
            "False              1781                         0         358   \n",
            "True               1448                         2         222   \n",
            "\n",
            "medical_specialty  Cardiology-Pediatric  Emergency/Trauma  Endocrinology  \\\n",
            "readmitted                                                                 \n",
            "False                                 0               227             11   \n",
            "True                                  3               180              4   \n",
            "\n",
            "medical_specialty  Family/GeneralPractice  Gastroenterology  Gynecology  \\\n",
            "readmitted                                                                \n",
            "False                                 423                32           5   \n",
            "True                                  275                18           1   \n",
            "\n",
            "medical_specialty  Hematology  ...  Surgery-Cardiovascular/Thoracic  \\\n",
            "readmitted                     ...                                    \n",
            "False                       0  ...                               62   \n",
            "True                        1  ...                               18   \n",
            "\n",
            "medical_specialty  Surgery-Colon&Rectal  Surgery-General  Surgery-Neuro  \\\n",
            "readmitted                                                                \n",
            "False                                 1              162             57   \n",
            "True                                  0               95             13   \n",
            "\n",
            "medical_specialty  Surgery-Pediatric  Surgery-Plastic  \\\n",
            "readmitted                                              \n",
            "False                              4                4   \n",
            "True                               0                1   \n",
            "\n",
            "medical_specialty  Surgery-PlasticwithinHeadandNeck  Surgery-Thoracic  \\\n",
            "readmitted                                                              \n",
            "False                                             0                 5   \n",
            "True                                              1                 6   \n",
            "\n",
            "medical_specialty  Surgery-Vascular  Urology  \n",
            "readmitted                                    \n",
            "False                            31       51  \n",
            "True                             26       13  \n",
            "\n",
            "[2 rows x 52 columns]\n",
            "--- * Category: diag_1\n",
            "diag_1      11  110  112  141  150  151  153  154  155  156  ...  999  V25  \\\n",
            "readmitted                                                   ...             \n",
            "False        0    1    3    1    1    3   11    2    4    1  ...    1    0   \n",
            "True         1    0    3    0    2    0   11    1    2    0  ...    0    1   \n",
            "\n",
            "diag_1      V45  V53  V54  V55  V56  V57  V58  V71  \n",
            "readmitted                                          \n",
            "False         2    1    2    4    1   52    5    0  \n",
            "True          0    2    1    2    3   42   10    1  \n",
            "\n",
            "[2 rows x 423 columns]\n",
            "--- * Category: diag_2\n",
            "diag_2      11  110  112  131  135  136  138  150  151  153  ...  V49  V54  \\\n",
            "readmitted                                                   ...             \n",
            "False        0    0    6    1    6    0    0    0    5    3  ...    0    4   \n",
            "True         1    1    7    0    4    1    1    1    0    5  ...    1    4   \n",
            "\n",
            "diag_2      V57  V58  V63  V64  V65  V70  V72  V85  \n",
            "readmitted                                          \n",
            "False         1    9    4    5    3    1    1    1  \n",
            "True          0    3    0    1    0    0    0    0  \n",
            "\n",
            "[2 rows x 405 columns]\n",
            "--- * Category: diag_3\n",
            "diag_3      110  112  117  135  138  150  151  153  154  155  ...  V45  V46  \\\n",
            "readmitted                                                    ...             \n",
            "False         2   14    0    4    0    2    1    4    1    1  ...   67    0   \n",
            "True          0    5    1    0    1    0    0    2    0    0  ...   52    2   \n",
            "\n",
            "diag_3      V49  V54  V58  V63  V64  V65  V72  V85  \n",
            "readmitted                                          \n",
            "False         1    2   18    3    3    2    2    2  \n",
            "True          3    3   18    0    2    0    0    0  \n",
            "\n",
            "[2 rows x 431 columns]\n",
            "--- * Category: max_glu_serum\n",
            "max_glu_serum  >200  >300  None  Norm\n",
            "readmitted                           \n",
            "False            98    64  4489   171\n",
            "True             55    38  2986    99\n",
            "--- * Category: A1Cresult\n",
            "A1Cresult    >7   >8  None  Norm\n",
            "readmitted                      \n",
            "False       169  396  4013   244\n",
            "True        116  242  2696   124\n",
            "--- * Category: metformin\n",
            "metformin   Down    No  Steady  Up\n",
            "readmitted                        \n",
            "False         22  3847     888  65\n",
            "True          19  2562     572  25\n",
            "--- * Category: repaglinide\n",
            "repaglinide  Down    No  Steady  Up\n",
            "readmitted                         \n",
            "False           3  4770      41   8\n",
            "True            2  3118      55   3\n",
            "--- * Category: nateglinide\n",
            "nateglinide  Down    No  Steady  Up\n",
            "readmitted                         \n",
            "False           0  4803      18   1\n",
            "True            1  3159      18   0\n",
            "--- * Category: chlorpropamide\n",
            "chlorpropamide    No  Steady  Up\n",
            "readmitted                      \n",
            "False           4818       4   0\n",
            "True            3172       5   1\n",
            "--- * Category: glimepiride\n",
            "glimepiride  Down    No  Steady  Up\n",
            "readmitted                         \n",
            "False           4  4598     206  14\n",
            "True            5  3006     153  14\n",
            "--- * Category: glipizide\n",
            "glipizide   Down    No  Steady  Up\n",
            "readmitted                        \n",
            "False         24  4203     546  49\n",
            "True          16  2735     400  27\n",
            "--- * Category: glyburide\n",
            "glyburide   Down    No  Steady  Up\n",
            "readmitted                        \n",
            "False         32  4239     512  39\n",
            "True          22  2790     326  40\n",
            "--- * Category: pioglitazone\n",
            "pioglitazone  Down    No  Steady  Up\n",
            "readmitted                          \n",
            "False            4  4547     261  10\n",
            "True             9  2893     262  14\n",
            "--- * Category: rosiglitazone\n",
            "rosiglitazone  Down    No  Steady  Up\n",
            "readmitted                           \n",
            "False             5  4484     325   8\n",
            "True              4  2909     262   3\n",
            "--- * Category: acarbose\n",
            "acarbose      No  Steady  Up\n",
            "readmitted                  \n",
            "False       4807      14   1\n",
            "True        3169       9   0\n",
            "--- * Category: insulin\n",
            "insulin     Down    No  Steady   Up\n",
            "readmitted                         \n",
            "False        401  2530    1514  377\n",
            "True         354  1582     943  299\n",
            "--- * Category: glyburide.metformin\n",
            "glyburide.metformin  Down    No  Steady  Up\n",
            "readmitted                                 \n",
            "False                   1  4798      22   1\n",
            "True                    0  3158      20   0\n",
            "--- * Category: change\n",
            "change        Ch    No\n",
            "readmitted            \n",
            "False       1942  2880\n",
            "True        1478  1700\n",
            "--- * Category: diabetesMed\n",
            "diabetesMed    No   Yes\n",
            "readmitted             \n",
            "False        1299  3523\n",
            "True          687  2491\n"
          ]
        }
      ],
      "source": [
        "cat_data = list(df.columns)\n",
        "# features without variations should be thrown away\n",
        "no_variation_data = ['glimepiride.pioglitazone', 'metformin.rosiglitazone',\n",
        "                     'metformin.pioglitazone', 'acetohexamide', 'tolbutamide',\n",
        "                     'miglitol', 'troglitazone', 'tolazamide', \n",
        "                     'examide', 'citoglipton', 'glipizide.metformin']\n",
        "# tabulate categorical data with 'readmitted' \n",
        "for i in (['readmitted'] + ['y'] + num_data + text_data + no_variation_data):\n",
        "    cat_data.remove(i)\n",
        "print(cat_data)\n",
        "for i in cat_data:\n",
        "    print('--- * Category:', i)\n",
        "    print(pd.crosstab(df['readmitted'], df[i]))"
      ]
    },
    {
      "cell_type": "markdown",
      "metadata": {
        "id": "hdpqm53c-UMj"
      },
      "source": [
        "## 2. Pre-processed categorical data for use in the model and justified pre-processing method. Note this may be different for each algorithm you try. [10 pts]"
      ]
    },
    {
      "cell_type": "code",
      "execution_count": 11,
      "metadata": {
        "id": "P7pnvrTFDBrA"
      },
      "outputs": [],
      "source": [
        "# Ordinal Encoding\n",
        "# Step 1: determine the orders in a meaningful way\n",
        "age_cat = ['[0-10)','[10-20)','[20-30)','[30-40)','[40-50)','[50-60)','[60-70)','[70-80)','[80-90)','[90-100)']\n",
        "weight_cat = ['[0-25)','[25-50)','[50-75)','?','[75-100)','[100-125)','[125-150)','[150-175)']\n",
        "max_glu_serum_cat = ['None','Norm','>200', '>300']\n",
        "A1Cresult_cat = ['Norm','None','>7','>8']\n",
        "metformin_cat = ['Down','No','Steady','Up']\n",
        "repaglinide_cat = ['Down','No','Steady','Up']\n",
        "nateglinide_cat = ['Down','No','Steady','Up']\n",
        "chlorpropamide_cat = ['Down','No','Steady','Up']\n",
        "glimepiride_cat = ['Down','No','Steady','Up']\n",
        "glipizide_cat = ['Down','No','Steady','Up']\n",
        "glyburide_cat = ['Down','No','Steady','Up']\n",
        "pioglitazone_cat = ['Down','No','Steady','Up']\n",
        "rosiglitazone_cat = ['Down','No','Steady','Up']\n",
        "acarbose_cat = ['Down','No','Steady','Up']\n",
        "insulin_cat = ['Down','No','Steady','Up']\n",
        "glyburide_metformin_cat = ['Down','No','Steady','Up']\n",
        "orders_cat = [age_cat, weight_cat, max_glu_serum_cat, A1Cresult_cat, metformin_cat,\n",
        "              repaglinide_cat, nateglinide_cat, chlorpropamide_cat, glimepiride_cat,\n",
        "              glipizide_cat, glyburide_cat, pioglitazone_cat, rosiglitazone_cat,\n",
        "              acarbose_cat, insulin_cat, glyburide_metformin_cat]\n",
        "ord_cat_data = [\"age\", \"weight\", \"max_glu_serum\", \"A1Cresult\", \"metformin\",\n",
        "              \"repaglinide\", \"nateglinide\", \"chlorpropamide\", \"glimepiride\",\n",
        "              \"glipizide\", \"glyburide\", \"pioglitazone\", \"rosiglitazone\",\n",
        "              \"acarbose\", \"insulin\", \"glyburide.metformin\"]\n",
        "# Step 2: instantiate the encoder\n",
        "ord_encoder = OrdinalEncoder(categories=orders_cat)\n",
        "# Step 3: fit data to encoder and transform the data\n",
        "cat_ord_encoded = ord_encoder.fit_transform(df[ord_cat_data])"
      ]
    },
    {
      "cell_type": "code",
      "execution_count": 12,
      "metadata": {
        "id": "X0chPZuRCF4V"
      },
      "outputs": [],
      "source": [
        "# One-Hot Encoding\n",
        "onehot_encoder = OneHotEncoder(sparse=False)\n",
        "cat_onehot_encoded = onehot_encoder.fit_transform(df[cat_data])"
      ]
    },
    {
      "cell_type": "markdown",
      "metadata": {
        "id": "24qSy4Nf-Zhm"
      },
      "source": [
        "## 3. Pre-processed numerical data appropriately including handling missing data and justified methods used. Note this may be different for each algorithm you try. [10 pts]"
      ]
    },
    {
      "cell_type": "markdown",
      "metadata": {
        "id": "vhbkEoZLCF4W"
      },
      "source": [
        "#### (1) 8 features in df.describe() are numerical, they don't have any missing values;"
      ]
    },
    {
      "cell_type": "code",
      "execution_count": 13,
      "metadata": {
        "colab": {
          "base_uri": "https://localhost:8080/"
        },
        "id": "ZTEMgnTaCF4W",
        "outputId": "72cdb5e1-0ae8-4e75-d025-e1e3feee9b79"
      },
      "outputs": [
        {
          "output_type": "stream",
          "name": "stdout",
          "text": [
            "       time_in_hospital  num_lab_procedures  num_procedures  num_medications  \\\n",
            "count      10000.000000        10000.000000    10000.000000     10000.000000   \n",
            "mean           4.434700           43.078600        1.399200        15.563800   \n",
            "std            3.021597           19.453315        1.706438         8.391613   \n",
            "min            1.000000            1.000000        0.000000         1.000000   \n",
            "25%            2.000000           32.000000        0.000000        10.000000   \n",
            "50%            4.000000           44.000000        1.000000        14.000000   \n",
            "75%            6.000000           57.000000        2.000000        19.000000   \n",
            "max           14.000000          120.000000        6.000000        81.000000   \n",
            "\n",
            "       number_outpatient  number_emergency  number_inpatient  \\\n",
            "count       10000.000000      10000.000000      10000.000000   \n",
            "mean            0.281700          0.115000          0.387300   \n",
            "std             1.119406          0.649475          0.854267   \n",
            "min             0.000000          0.000000          0.000000   \n",
            "25%             0.000000          0.000000          0.000000   \n",
            "50%             0.000000          0.000000          0.000000   \n",
            "75%             0.000000          0.000000          0.000000   \n",
            "max            36.000000         42.000000         10.000000   \n",
            "\n",
            "       number_diagnoses             y  \n",
            "count      10000.000000  10000.000000  \n",
            "mean           7.025300      0.317800  \n",
            "std            2.020957      0.465645  \n",
            "min            1.000000      0.000000  \n",
            "25%            5.000000      0.000000  \n",
            "50%            7.000000      0.000000  \n",
            "75%            9.000000      1.000000  \n",
            "max            9.000000      1.000000  \n"
          ]
        }
      ],
      "source": [
        "# Numerical data: use describe()\n",
        "print(df.describe())\n",
        "num_data = ['time_in_hospital', 'num_lab_procedures', 'num_procedures', \n",
        "             'num_medications', 'number_outpatient', 'number_emergency',\n",
        "             'number_inpatient', 'number_diagnoses']\n",
        "minmaxscaler = MinMaxScaler()\n",
        "df_num_minmax_scaled = minmaxscaler.fit_transform(df[num_data])\n",
        "zscaler = StandardScaler()\n",
        "df_num_z_scaled = zscaler.fit_transform(df[num_data])"
      ]
    },
    {
      "cell_type": "code",
      "execution_count": 14,
      "metadata": {
        "colab": {
          "base_uri": "https://localhost:8080/"
        },
        "id": "9j6e9qhsCF4X",
        "outputId": "d57681ae-7c77-4e2b-bb1e-0dcdceb37b57"
      },
      "outputs": [
        {
          "output_type": "execute_result",
          "data": {
            "text/plain": [
              "((10000, 8), (10000, 8))"
            ]
          },
          "metadata": {},
          "execution_count": 14
        }
      ],
      "source": [
        "# Numerical data as arrays under 2 scales\n",
        "df_num_minmax_scaled.shape, df_num_z_scaled.shape"
      ]
    },
    {
      "cell_type": "markdown",
      "metadata": {
        "id": "rkB4fe35-rvz"
      },
      "source": [
        "## 4. Implement a model to make predictions using text data using tf-idf [20 pts]"
      ]
    },
    {
      "cell_type": "markdown",
      "metadata": {
        "id": "Fzqm7v7tCF4X"
      },
      "source": [
        "#### - Text Data: \n",
        "##### - (1) Combine (diag_1_desc, diag_2_desc, diag_3_desc) into 1 column\n",
        "##### - (2) TF-IDF"
      ]
    },
    {
      "cell_type": "code",
      "execution_count": 15,
      "metadata": {
        "colab": {
          "base_uri": "https://localhost:8080/",
          "height": 357
        },
        "id": "lDReIfhKCF4Y",
        "outputId": "e0d004ee-e261-47fc-c32a-fb477ea57bb1"
      },
      "outputs": [
        {
          "output_type": "execute_result",
          "data": {
            "text/plain": [
              "                                         diag_1_desc  \\\n",
              "i                                                      \n",
              "0                               Obesity, unspecified   \n",
              "1      Osteoarthrosis, generalized, site unspecified   \n",
              "2  Diabetes with peripheral circulatory disorders...   \n",
              "3                                 Acute pancreatitis   \n",
              "4  Closed fracture of intracapsular section of ne...   \n",
              "\n",
              "                                         diag_2_desc  \\\n",
              "i                                                      \n",
              "0  Diabetes mellitus without mention of complicat...   \n",
              "1           Nervous system complication, unspecified   \n",
              "2                     Cellulitis and abscess of face   \n",
              "3                                    Intussusception   \n",
              "4            Paroxysmal supraventricular tachycardia   \n",
              "\n",
              "                                         diag_3_desc  \\\n",
              "i                                                      \n",
              "0  Coronary atherosclerosis of unspecified type o...   \n",
              "1                 Postmyocardial infarction syndrome   \n",
              "2                           Atherosclerosis of aorta   \n",
              "3  Diabetes mellitus without mention of complicat...   \n",
              "4                               Sideroblastic anemia   \n",
              "\n",
              "                                           diag_desc  \n",
              "i                                                     \n",
              "0  Obesity, unspecified Diabetes mellitus without...  \n",
              "1  Osteoarthrosis, generalized, site unspecified ...  \n",
              "2  Diabetes with peripheral circulatory disorders...  \n",
              "3  Acute pancreatitis Intussusception Diabetes me...  \n",
              "4  Closed fracture of intracapsular section of ne...  "
            ],
            "text/html": [
              "\n",
              "  <div id=\"df-cbc39189-4145-42c0-a476-3605612b32b4\">\n",
              "    <div class=\"colab-df-container\">\n",
              "      <div>\n",
              "<style scoped>\n",
              "    .dataframe tbody tr th:only-of-type {\n",
              "        vertical-align: middle;\n",
              "    }\n",
              "\n",
              "    .dataframe tbody tr th {\n",
              "        vertical-align: top;\n",
              "    }\n",
              "\n",
              "    .dataframe thead th {\n",
              "        text-align: right;\n",
              "    }\n",
              "</style>\n",
              "<table border=\"1\" class=\"dataframe\">\n",
              "  <thead>\n",
              "    <tr style=\"text-align: right;\">\n",
              "      <th></th>\n",
              "      <th>diag_1_desc</th>\n",
              "      <th>diag_2_desc</th>\n",
              "      <th>diag_3_desc</th>\n",
              "      <th>diag_desc</th>\n",
              "    </tr>\n",
              "    <tr>\n",
              "      <th>i</th>\n",
              "      <th></th>\n",
              "      <th></th>\n",
              "      <th></th>\n",
              "      <th></th>\n",
              "    </tr>\n",
              "  </thead>\n",
              "  <tbody>\n",
              "    <tr>\n",
              "      <th>0</th>\n",
              "      <td>Obesity, unspecified</td>\n",
              "      <td>Diabetes mellitus without mention of complicat...</td>\n",
              "      <td>Coronary atherosclerosis of unspecified type o...</td>\n",
              "      <td>Obesity, unspecified Diabetes mellitus without...</td>\n",
              "    </tr>\n",
              "    <tr>\n",
              "      <th>1</th>\n",
              "      <td>Osteoarthrosis, generalized, site unspecified</td>\n",
              "      <td>Nervous system complication, unspecified</td>\n",
              "      <td>Postmyocardial infarction syndrome</td>\n",
              "      <td>Osteoarthrosis, generalized, site unspecified ...</td>\n",
              "    </tr>\n",
              "    <tr>\n",
              "      <th>2</th>\n",
              "      <td>Diabetes with peripheral circulatory disorders...</td>\n",
              "      <td>Cellulitis and abscess of face</td>\n",
              "      <td>Atherosclerosis of aorta</td>\n",
              "      <td>Diabetes with peripheral circulatory disorders...</td>\n",
              "    </tr>\n",
              "    <tr>\n",
              "      <th>3</th>\n",
              "      <td>Acute pancreatitis</td>\n",
              "      <td>Intussusception</td>\n",
              "      <td>Diabetes mellitus without mention of complicat...</td>\n",
              "      <td>Acute pancreatitis Intussusception Diabetes me...</td>\n",
              "    </tr>\n",
              "    <tr>\n",
              "      <th>4</th>\n",
              "      <td>Closed fracture of intracapsular section of ne...</td>\n",
              "      <td>Paroxysmal supraventricular tachycardia</td>\n",
              "      <td>Sideroblastic anemia</td>\n",
              "      <td>Closed fracture of intracapsular section of ne...</td>\n",
              "    </tr>\n",
              "  </tbody>\n",
              "</table>\n",
              "</div>\n",
              "      <button class=\"colab-df-convert\" onclick=\"convertToInteractive('df-cbc39189-4145-42c0-a476-3605612b32b4')\"\n",
              "              title=\"Convert this dataframe to an interactive table.\"\n",
              "              style=\"display:none;\">\n",
              "        \n",
              "  <svg xmlns=\"http://www.w3.org/2000/svg\" height=\"24px\"viewBox=\"0 0 24 24\"\n",
              "       width=\"24px\">\n",
              "    <path d=\"M0 0h24v24H0V0z\" fill=\"none\"/>\n",
              "    <path d=\"M18.56 5.44l.94 2.06.94-2.06 2.06-.94-2.06-.94-.94-2.06-.94 2.06-2.06.94zm-11 1L8.5 8.5l.94-2.06 2.06-.94-2.06-.94L8.5 2.5l-.94 2.06-2.06.94zm10 10l.94 2.06.94-2.06 2.06-.94-2.06-.94-.94-2.06-.94 2.06-2.06.94z\"/><path d=\"M17.41 7.96l-1.37-1.37c-.4-.4-.92-.59-1.43-.59-.52 0-1.04.2-1.43.59L10.3 9.45l-7.72 7.72c-.78.78-.78 2.05 0 2.83L4 21.41c.39.39.9.59 1.41.59.51 0 1.02-.2 1.41-.59l7.78-7.78 2.81-2.81c.8-.78.8-2.07 0-2.86zM5.41 20L4 18.59l7.72-7.72 1.47 1.35L5.41 20z\"/>\n",
              "  </svg>\n",
              "      </button>\n",
              "      \n",
              "  <style>\n",
              "    .colab-df-container {\n",
              "      display:flex;\n",
              "      flex-wrap:wrap;\n",
              "      gap: 12px;\n",
              "    }\n",
              "\n",
              "    .colab-df-convert {\n",
              "      background-color: #E8F0FE;\n",
              "      border: none;\n",
              "      border-radius: 50%;\n",
              "      cursor: pointer;\n",
              "      display: none;\n",
              "      fill: #1967D2;\n",
              "      height: 32px;\n",
              "      padding: 0 0 0 0;\n",
              "      width: 32px;\n",
              "    }\n",
              "\n",
              "    .colab-df-convert:hover {\n",
              "      background-color: #E2EBFA;\n",
              "      box-shadow: 0px 1px 2px rgba(60, 64, 67, 0.3), 0px 1px 3px 1px rgba(60, 64, 67, 0.15);\n",
              "      fill: #174EA6;\n",
              "    }\n",
              "\n",
              "    [theme=dark] .colab-df-convert {\n",
              "      background-color: #3B4455;\n",
              "      fill: #D2E3FC;\n",
              "    }\n",
              "\n",
              "    [theme=dark] .colab-df-convert:hover {\n",
              "      background-color: #434B5C;\n",
              "      box-shadow: 0px 1px 3px 1px rgba(0, 0, 0, 0.15);\n",
              "      filter: drop-shadow(0px 1px 2px rgba(0, 0, 0, 0.3));\n",
              "      fill: #FFFFFF;\n",
              "    }\n",
              "  </style>\n",
              "\n",
              "      <script>\n",
              "        const buttonEl =\n",
              "          document.querySelector('#df-cbc39189-4145-42c0-a476-3605612b32b4 button.colab-df-convert');\n",
              "        buttonEl.style.display =\n",
              "          google.colab.kernel.accessAllowed ? 'block' : 'none';\n",
              "\n",
              "        async function convertToInteractive(key) {\n",
              "          const element = document.querySelector('#df-cbc39189-4145-42c0-a476-3605612b32b4');\n",
              "          const dataTable =\n",
              "            await google.colab.kernel.invokeFunction('convertToInteractive',\n",
              "                                                     [key], {});\n",
              "          if (!dataTable) return;\n",
              "\n",
              "          const docLinkHtml = 'Like what you see? Visit the ' +\n",
              "            '<a target=\"_blank\" href=https://colab.research.google.com/notebooks/data_table.ipynb>data table notebook</a>'\n",
              "            + ' to learn more about interactive tables.';\n",
              "          element.innerHTML = '';\n",
              "          dataTable['output_type'] = 'display_data';\n",
              "          await google.colab.output.renderOutput(dataTable, element);\n",
              "          const docLink = document.createElement('div');\n",
              "          docLink.innerHTML = docLinkHtml;\n",
              "          element.appendChild(docLink);\n",
              "        }\n",
              "      </script>\n",
              "    </div>\n",
              "  </div>\n",
              "  "
            ]
          },
          "metadata": {},
          "execution_count": 15
        }
      ],
      "source": [
        "# (1) combine (diag_1_desc, diag_2_desc, diag_3_desc) into 1 column\n",
        "df[\"diag_desc\"] = df[\"diag_1_desc\"].astype(str) + \" \" + df[\"diag_2_desc\"].astype(str)+ \" \" + df[\"diag_3_desc\"].astype(str)\n",
        "df[[\"diag_1_desc\",\"diag_2_desc\", \"diag_3_desc\", 'diag_desc']].head()"
      ]
    },
    {
      "cell_type": "code",
      "execution_count": 16,
      "metadata": {
        "id": "hO6omD6bCF4Y"
      },
      "outputs": [],
      "source": [
        "# (2) TF-IDF\n",
        "vectorizer = TfidfVectorizer(stop_words='english')\n",
        "vectors = vectorizer.fit_transform(df[\"diag_desc\"])\n",
        "feature_names = vectorizer.get_feature_names_out()\n",
        "dense = vectors.todense()\n",
        "denselist = dense.tolist()\n",
        "df_text = pd.DataFrame(denselist, columns=feature_names)"
      ]
    },
    {
      "cell_type": "code",
      "execution_count": 17,
      "metadata": {
        "id": "fb8YnH3sCSg_"
      },
      "outputs": [],
      "source": [
        "# separate 8k and 2k data\n",
        "X_train, X_test, y_train, y_test, num_train, num_test, cat_ord_train, cat_ord_test, cat_oh_train, cat_oh_test = train_test_split(df_text, \n",
        "                                                                                                                                 df[y],\n",
        "                                                                                                                                 df_num_z_scaled, \n",
        "                                                                                                                                 cat_ord_encoded, \n",
        "                                                                                                                                 cat_onehot_encoded,\n",
        "                                                                                                                                 test_size = 0.2, \n",
        "                                                                                                                                 shuffle = False)"
      ]
    },
    {
      "cell_type": "code",
      "execution_count": 18,
      "metadata": {
        "id": "TBiQCvXRD3SW"
      },
      "outputs": [],
      "source": [
        "# (3) Use different models to train and predict tf-idf values\n",
        "\n",
        "## 3.1 For training data, split into 2 parts for model stacking\n",
        "X1, X2, y1, y2 = train_test_split(X_train, y_train, test_size = 0.5, shuffle = False)\n",
        "## 3.2 Define a function to experiment different combination of models in upstream prediction\n",
        "def upstream_models(X1,X2,y1,y2,model1,model2):\n",
        "    '''\n",
        "    Returns AUC and upstream predictions\n",
        "    '''\n",
        "    m1, m2 = model1, model2\n",
        "    fit1, fit2 = m1.fit(X1,y1.values.ravel()), m2.fit(X2,y2.values.ravel())\n",
        "    m1_pred_t, m1_pred_f = np.hsplit(m1.predict_proba(X2), 2)\n",
        "    m2_pred_t, m2_pred_f = np.hsplit(m2.predict_proba(X1), 2)\n",
        "    \n",
        "    pred_up = np.concatenate((m2_pred_f, m1_pred_f))\n",
        "    y_up = np.concatenate((y1,y2))\n",
        "    \n",
        "    return metrics.roc_auc_score(y_up, pred_up), pred_up"
      ]
    },
    {
      "cell_type": "code",
      "execution_count": 19,
      "metadata": {
        "id": "72gQcg5_XpVJ",
        "colab": {
          "base_uri": "https://localhost:8080/"
        },
        "outputId": "8e2bc02a-4bf5-4aac-a1d0-c16a8430660e"
      },
      "outputs": [
        {
          "output_type": "stream",
          "name": "stdout",
          "text": [
            "Using the following two models: LogisticRegressionCV(cv=5, max_iter=5000, random_state=42) MLPClassifier(alpha=1, max_iter=10000) , AUC is: 0.583832844480628\n",
            "Using the following two models: LogisticRegressionCV(cv=5, max_iter=5000, random_state=42) MultinomialNB() , AUC is: 0.5719639297440747\n",
            "Using the following two models: LogisticRegressionCV(cv=5, max_iter=5000, random_state=42) RandomForestClassifier(criterion='entropy', max_depth=5, random_state=42) , AUC is: 0.5820419652009264\n",
            "Using the following two models: MLPClassifier(alpha=1, max_iter=10000) LogisticRegressionCV(cv=5, max_iter=5000, random_state=42) , AUC is: 0.5833457754329785\n",
            "Using the following two models: MLPClassifier(alpha=1, max_iter=10000) MultinomialNB() , AUC is: 0.575185345956061\n",
            "Using the following two models: MLPClassifier(alpha=1, max_iter=10000) RandomForestClassifier(criterion='entropy', max_depth=5, random_state=42) , AUC is: 0.5823995015503466\n",
            "Using the following two models: MultinomialNB() LogisticRegressionCV(cv=5, max_iter=5000, random_state=42) , AUC is: 0.5788962456790894\n",
            "Using the following two models: MultinomialNB() MLPClassifier(alpha=1, max_iter=10000) , AUC is: 0.5793082705942634\n",
            "Using the following two models: MultinomialNB() RandomForestClassifier(criterion='entropy', max_depth=5, random_state=42) , AUC is: 0.5723212050704254\n",
            "Using the following two models: RandomForestClassifier(criterion='entropy', max_depth=5, random_state=42) LogisticRegressionCV(cv=5, max_iter=5000, random_state=42) , AUC is: 0.5721045885506406\n",
            "Using the following two models: RandomForestClassifier(criterion='entropy', max_depth=5, random_state=42) MLPClassifier(alpha=1, max_iter=10000) , AUC is: 0.5745179425952844\n",
            "Using the following two models: RandomForestClassifier(criterion='entropy', max_depth=5, random_state=42) MultinomialNB() , AUC is: 0.5641625048713431\n"
          ]
        }
      ],
      "source": [
        "## 3.3 list the models and experiment different combinations\n",
        "models = [LogisticRegressionCV(cv=5, random_state=42, max_iter=5000),\n",
        "          MLPClassifier(alpha=1, max_iter=10000),\n",
        "          MultinomialNB(),\n",
        "          RandomForestClassifier(criterion='entropy', max_depth=5, random_state=42)]\n",
        "for m1 in models:\n",
        "    for m2 in models:\n",
        "        if m1!=m2:\n",
        "            a,b = upstream_models(X1,X2,y1,y2,m1,m2)\n",
        "            print('Using the following two models:', m1,m2,', AUC is:', a)"
      ]
    },
    {
      "cell_type": "code",
      "execution_count": 20,
      "metadata": {
        "id": "h97CEKujCRvL"
      },
      "outputs": [],
      "source": [
        "## 3.4 According to these results, I choose MLP and Logit as my upstream models\n",
        "m1 = MLPClassifier(alpha=1, max_iter=10000)\n",
        "m2 = LogisticRegressionCV(cv=5, max_iter=10000, random_state=42)\n",
        "AUC_upstream, pred_upstream = upstream_models(X1,X2,y1,y2,m1,m2)"
      ]
    },
    {
      "cell_type": "code",
      "execution_count": 21,
      "metadata": {
        "colab": {
          "base_uri": "https://localhost:8080/"
        },
        "id": "Ygy3JNOvim_3",
        "outputId": "99d9e9d5-816d-4980-a5a1-0cd65671e959"
      },
      "outputs": [
        {
          "output_type": "stream",
          "name": "stdout",
          "text": [
            "Upstream AUC is: 0.5830904296152598\n"
          ]
        }
      ],
      "source": [
        "print('Upstream AUC is:', AUC_upstream)"
      ]
    },
    {
      "cell_type": "markdown",
      "metadata": {
        "id": "R4C-a1H0FDA8"
      },
      "source": [
        "## 5. Use model stacking to incorporate tf-idf predictions for all 3 text fields in downstream algorithm which uses non-text features [20 pts]"
      ]
    },
    {
      "cell_type": "code",
      "execution_count": 22,
      "metadata": {
        "colab": {
          "base_uri": "https://localhost:8080/"
        },
        "id": "RoPgg7M7cpgZ",
        "outputId": "3390e0fe-c9a0-4a1f-b8fc-18ae808302a2"
      },
      "outputs": [
        {
          "output_type": "stream",
          "name": "stdout",
          "text": [
            "(8000, 1) (8000, 8) (8000, 16) (8000, 1542)\n",
            "Shape of concatenated feature matrix: (8000, 1567)\n"
          ]
        }
      ],
      "source": [
        "# downstream features and downstream label\n",
        "print(pred_upstream.shape, num_train.shape, cat_ord_train.shape, cat_oh_train.shape)\n",
        "X_down = np.concatenate((pred_upstream, num_train, cat_ord_train, cat_oh_train), axis=1)\n",
        "print('Shape of concatenated feature matrix:', X_down.shape)"
      ]
    },
    {
      "cell_type": "code",
      "execution_count": 23,
      "metadata": {
        "id": "CH39C-_NY256"
      },
      "outputs": [],
      "source": [
        "# re-use sfold function from assignment #1\n",
        "def sFold(folds, data, labels, model):\n",
        "    '''\n",
        "    Return AUC and predictions\n",
        "    '''\n",
        "    assert len(data)==len(labels), 'Error: different lengths between data and labels'\n",
        "\n",
        "    # shuffle and split data into K folds\n",
        "    kf = KFold(n_splits=folds, shuffle=True)\n",
        "    \n",
        "    # repeat the model k times\n",
        "    k_expected_labels = []\n",
        "    k_predicted_labels = []\n",
        "    \n",
        "    for train_index, test_index in kf.split(labels):\n",
        "        \n",
        "        k_fold_train_fm = data[train_index]\n",
        "        k_fold_train_tv = labels[train_index]\n",
        "        k_fold_test_fm = data[test_index]\n",
        "        k_fold_test_tv = labels[test_index]\n",
        "\n",
        "        # train the model\n",
        "        km = model\n",
        "        km.fit(k_fold_train_fm, k_fold_train_tv)\n",
        "        # make a prediction\n",
        "        k_fold_y_pred = km.predict_proba(k_fold_test_fm)\n",
        "        k_fold_true_pred, k_fold_false_pred = np.hsplit(k_fold_y_pred, 2)\n",
        "\n",
        "        k_expected_labels += k_fold_test_tv.tolist()\n",
        "        k_predicted_labels += k_fold_false_pred.flatten().tolist()\n",
        "    \n",
        "    return metrics.roc_auc_score(k_expected_labels, k_predicted_labels), np.array(k_predicted_labels)"
      ]
    },
    {
      "cell_type": "markdown",
      "metadata": {
        "id": "Wjcxxme4fDdA"
      },
      "source": [
        "## 6. Perform experimentation for multiple modeling algorithms and justify why you selected the experiments you chose [20 pts]"
      ]
    },
    {
      "cell_type": "code",
      "execution_count": 24,
      "metadata": {
        "colab": {
          "base_uri": "https://localhost:8080/"
        },
        "id": "ch1kh1NQc6g7",
        "outputId": "8276bcfc-0dd1-40d0-9f41-10e11c7f4dc9"
      },
      "outputs": [
        {
          "output_type": "stream",
          "name": "stdout",
          "text": [
            "- Using model: MLPClassifier(alpha=1, max_iter=5000) , AUC is: 0.6838126412950503\n",
            "- Using model: XGBClassifier(n_estimators=10, seed=123) , AUC is: 0.6659835584178765\n",
            "- Using model: LogisticRegressionCV(cv=5, max_iter=5000, random_state=42) , AUC is: 0.6961399125416103\n",
            "- Using model: LogisticRegression(max_iter=5000, random_state=42) , AUC is: 0.67651300064551\n",
            "- Using model: LogisticRegression(max_iter=5000, penalty='l1', random_state=42,\n",
            "                   solver='liblinear') , AUC is: 0.6808078742307324\n"
          ]
        }
      ],
      "source": [
        "# experiment using sfold function\n",
        "models = [MLPClassifier(alpha=1, max_iter=5000),\n",
        "          XGBClassifier(objective='binary:logistic', n_estimators = 10, seed = 123),\n",
        "          LogisticRegressionCV(cv=5, random_state=42, max_iter=5000),\n",
        "          LogisticRegression(penalty='l2', random_state=42, max_iter=5000),\n",
        "          LogisticRegression(penalty='l1', solver='liblinear', random_state=42, max_iter=5000)]\n",
        "for m in models:\n",
        "    for x in [X_down]:\n",
        "        a, b = sFold(5, x, y_train, m)\n",
        "        print('- Using model:',m,', AUC is:', a)"
      ]
    },
    {
      "cell_type": "markdown",
      "metadata": {
        "id": "J8llHsgt-6c2"
      },
      "source": [
        "## 7. Final model selection and discussion of your model choice and the model weaknesses (generally, where model doesn’t perform well, etc.) [10 pts]\n",
        "\n",
        "- I am choosing Neural Network and Logistic Regression in my upstream model where the features are TF-IDF.\n",
        "- I am choosing Logistic Classifier as my downstream model, where features are upstream predictions, non-text related features.\n",
        "\n",
        "- Generally, tree-based models are not working well in this case study.\n",
        "- The disadvantage of this case study is the small size of data."
      ]
    },
    {
      "cell_type": "markdown",
      "metadata": {
        "id": "wlKKi1cz--sG"
      },
      "source": [
        "# Part B: Model Performance (100 pts)"
      ]
    },
    {
      "cell_type": "code",
      "source": [
        "# 2k patients are pre-processed \n",
        "for i in [X_test, y_test, num_test, cat_ord_test, cat_oh_test]:\n",
        "    print(i.shape)"
      ],
      "metadata": {
        "colab": {
          "base_uri": "https://localhost:8080/"
        },
        "id": "lmSoXFSnZ3Fl",
        "outputId": "854e3aff-7764-46d1-e021-e9131893daeb"
      },
      "execution_count": 25,
      "outputs": [
        {
          "output_type": "stream",
          "name": "stdout",
          "text": [
            "(2000, 1078)\n",
            "(2000,)\n",
            "(2000, 8)\n",
            "(2000, 16)\n",
            "(2000, 1542)\n"
          ]
        }
      ]
    },
    {
      "cell_type": "code",
      "source": [
        "# upstream\n",
        "m1_pred_t_2k, m1_pred_f_2k = np.hsplit(m1.predict_proba(X_test), 2)\n",
        "m2_pred_t_2k, m2_pred_f_2k = np.hsplit(m2.predict_proba(X_test), 2)\n",
        "for i in [m1_pred_f_2k, m2_pred_f_2k]:\n",
        "    print(i.shape)"
      ],
      "metadata": {
        "colab": {
          "base_uri": "https://localhost:8080/"
        },
        "id": "U0SpqIpCaG8c",
        "outputId": "e81d2d6c-7664-4b08-c2a0-452be1be3ca0"
      },
      "execution_count": 26,
      "outputs": [
        {
          "output_type": "stream",
          "name": "stdout",
          "text": [
            "(2000, 1)\n",
            "(2000, 1)\n"
          ]
        }
      ]
    },
    {
      "cell_type": "code",
      "source": [
        "X_down_2k = np.concatenate((0.5*(m1_pred_f_2k + m2_pred_f_2k), num_test, cat_ord_test, cat_oh_test), axis=1)"
      ],
      "metadata": {
        "id": "oHUcq0VpiXoh"
      },
      "execution_count": 27,
      "outputs": []
    },
    {
      "cell_type": "code",
      "source": [
        "m = LogisticRegressionCV(cv=5, max_iter=5000, random_state=42)\n",
        "m.fit(X_down, y_train)"
      ],
      "metadata": {
        "colab": {
          "base_uri": "https://localhost:8080/"
        },
        "id": "I96_-0SJj1EG",
        "outputId": "12a60ce5-9de5-4354-802e-e4f7d97f914c"
      },
      "execution_count": 28,
      "outputs": [
        {
          "output_type": "execute_result",
          "data": {
            "text/plain": [
              "LogisticRegressionCV(cv=5, max_iter=5000, random_state=42)"
            ]
          },
          "metadata": {},
          "execution_count": 28
        }
      ]
    },
    {
      "cell_type": "code",
      "source": [
        "pred_t_2k, pred_f_2k = np.hsplit(m.predict_proba(X_down_2k), 2)"
      ],
      "metadata": {
        "id": "A-Z9UZKqqZMH"
      },
      "execution_count": 29,
      "outputs": []
    },
    {
      "cell_type": "code",
      "source": [
        "df_2k_pred = pd.DataFrame(pred_f_2k)\n",
        "df_2k_pred.describe()"
      ],
      "metadata": {
        "colab": {
          "base_uri": "https://localhost:8080/",
          "height": 291
        },
        "id": "-oB5f5lsqh3S",
        "outputId": "b83ea4d8-77ac-48a6-f81a-cf67b4d6a96a"
      },
      "execution_count": 35,
      "outputs": [
        {
          "output_type": "execute_result",
          "data": {
            "text/plain": [
              "                 0\n",
              "count  2000.000000\n",
              "mean      0.403786\n",
              "std       0.163054\n",
              "min       0.047883\n",
              "25%       0.281689\n",
              "50%       0.389562\n",
              "75%       0.500848\n",
              "max       0.986419"
            ],
            "text/html": [
              "\n",
              "  <div id=\"df-b0315fc7-c168-4a97-83e5-9097cb4564a2\">\n",
              "    <div class=\"colab-df-container\">\n",
              "      <div>\n",
              "<style scoped>\n",
              "    .dataframe tbody tr th:only-of-type {\n",
              "        vertical-align: middle;\n",
              "    }\n",
              "\n",
              "    .dataframe tbody tr th {\n",
              "        vertical-align: top;\n",
              "    }\n",
              "\n",
              "    .dataframe thead th {\n",
              "        text-align: right;\n",
              "    }\n",
              "</style>\n",
              "<table border=\"1\" class=\"dataframe\">\n",
              "  <thead>\n",
              "    <tr style=\"text-align: right;\">\n",
              "      <th></th>\n",
              "      <th>0</th>\n",
              "    </tr>\n",
              "  </thead>\n",
              "  <tbody>\n",
              "    <tr>\n",
              "      <th>count</th>\n",
              "      <td>2000.000000</td>\n",
              "    </tr>\n",
              "    <tr>\n",
              "      <th>mean</th>\n",
              "      <td>0.403786</td>\n",
              "    </tr>\n",
              "    <tr>\n",
              "      <th>std</th>\n",
              "      <td>0.163054</td>\n",
              "    </tr>\n",
              "    <tr>\n",
              "      <th>min</th>\n",
              "      <td>0.047883</td>\n",
              "    </tr>\n",
              "    <tr>\n",
              "      <th>25%</th>\n",
              "      <td>0.281689</td>\n",
              "    </tr>\n",
              "    <tr>\n",
              "      <th>50%</th>\n",
              "      <td>0.389562</td>\n",
              "    </tr>\n",
              "    <tr>\n",
              "      <th>75%</th>\n",
              "      <td>0.500848</td>\n",
              "    </tr>\n",
              "    <tr>\n",
              "      <th>max</th>\n",
              "      <td>0.986419</td>\n",
              "    </tr>\n",
              "  </tbody>\n",
              "</table>\n",
              "</div>\n",
              "      <button class=\"colab-df-convert\" onclick=\"convertToInteractive('df-b0315fc7-c168-4a97-83e5-9097cb4564a2')\"\n",
              "              title=\"Convert this dataframe to an interactive table.\"\n",
              "              style=\"display:none;\">\n",
              "        \n",
              "  <svg xmlns=\"http://www.w3.org/2000/svg\" height=\"24px\"viewBox=\"0 0 24 24\"\n",
              "       width=\"24px\">\n",
              "    <path d=\"M0 0h24v24H0V0z\" fill=\"none\"/>\n",
              "    <path d=\"M18.56 5.44l.94 2.06.94-2.06 2.06-.94-2.06-.94-.94-2.06-.94 2.06-2.06.94zm-11 1L8.5 8.5l.94-2.06 2.06-.94-2.06-.94L8.5 2.5l-.94 2.06-2.06.94zm10 10l.94 2.06.94-2.06 2.06-.94-2.06-.94-.94-2.06-.94 2.06-2.06.94z\"/><path d=\"M17.41 7.96l-1.37-1.37c-.4-.4-.92-.59-1.43-.59-.52 0-1.04.2-1.43.59L10.3 9.45l-7.72 7.72c-.78.78-.78 2.05 0 2.83L4 21.41c.39.39.9.59 1.41.59.51 0 1.02-.2 1.41-.59l7.78-7.78 2.81-2.81c.8-.78.8-2.07 0-2.86zM5.41 20L4 18.59l7.72-7.72 1.47 1.35L5.41 20z\"/>\n",
              "  </svg>\n",
              "      </button>\n",
              "      \n",
              "  <style>\n",
              "    .colab-df-container {\n",
              "      display:flex;\n",
              "      flex-wrap:wrap;\n",
              "      gap: 12px;\n",
              "    }\n",
              "\n",
              "    .colab-df-convert {\n",
              "      background-color: #E8F0FE;\n",
              "      border: none;\n",
              "      border-radius: 50%;\n",
              "      cursor: pointer;\n",
              "      display: none;\n",
              "      fill: #1967D2;\n",
              "      height: 32px;\n",
              "      padding: 0 0 0 0;\n",
              "      width: 32px;\n",
              "    }\n",
              "\n",
              "    .colab-df-convert:hover {\n",
              "      background-color: #E2EBFA;\n",
              "      box-shadow: 0px 1px 2px rgba(60, 64, 67, 0.3), 0px 1px 3px 1px rgba(60, 64, 67, 0.15);\n",
              "      fill: #174EA6;\n",
              "    }\n",
              "\n",
              "    [theme=dark] .colab-df-convert {\n",
              "      background-color: #3B4455;\n",
              "      fill: #D2E3FC;\n",
              "    }\n",
              "\n",
              "    [theme=dark] .colab-df-convert:hover {\n",
              "      background-color: #434B5C;\n",
              "      box-shadow: 0px 1px 3px 1px rgba(0, 0, 0, 0.15);\n",
              "      filter: drop-shadow(0px 1px 2px rgba(0, 0, 0, 0.3));\n",
              "      fill: #FFFFFF;\n",
              "    }\n",
              "  </style>\n",
              "\n",
              "      <script>\n",
              "        const buttonEl =\n",
              "          document.querySelector('#df-b0315fc7-c168-4a97-83e5-9097cb4564a2 button.colab-df-convert');\n",
              "        buttonEl.style.display =\n",
              "          google.colab.kernel.accessAllowed ? 'block' : 'none';\n",
              "\n",
              "        async function convertToInteractive(key) {\n",
              "          const element = document.querySelector('#df-b0315fc7-c168-4a97-83e5-9097cb4564a2');\n",
              "          const dataTable =\n",
              "            await google.colab.kernel.invokeFunction('convertToInteractive',\n",
              "                                                     [key], {});\n",
              "          if (!dataTable) return;\n",
              "\n",
              "          const docLinkHtml = 'Like what you see? Visit the ' +\n",
              "            '<a target=\"_blank\" href=https://colab.research.google.com/notebooks/data_table.ipynb>data table notebook</a>'\n",
              "            + ' to learn more about interactive tables.';\n",
              "          element.innerHTML = '';\n",
              "          dataTable['output_type'] = 'display_data';\n",
              "          await google.colab.output.renderOutput(dataTable, element);\n",
              "          const docLink = document.createElement('div');\n",
              "          docLink.innerHTML = docLinkHtml;\n",
              "          element.appendChild(docLink);\n",
              "        }\n",
              "      </script>\n",
              "    </div>\n",
              "  </div>\n",
              "  "
            ]
          },
          "metadata": {},
          "execution_count": 35
        }
      ]
    },
    {
      "cell_type": "code",
      "source": [
        "df_2k_pred.to_csv('prediction2k.csv')"
      ],
      "metadata": {
        "id": "v6G1XmBLcSQx"
      },
      "execution_count": 36,
      "outputs": []
    },
    {
      "cell_type": "code",
      "source": [
        ""
      ],
      "metadata": {
        "id": "Yge6Tox5ctyj"
      },
      "execution_count": null,
      "outputs": []
    }
  ],
  "metadata": {
    "colab": {
      "collapsed_sections": [],
      "name": "Liu_Chuxin_Assignment2.ipynb",
      "provenance": []
    },
    "kernelspec": {
      "display_name": "Python 3 (ipykernel)",
      "language": "python",
      "name": "python3"
    },
    "language_info": {
      "codemirror_mode": {
        "name": "ipython",
        "version": 3
      },
      "file_extension": ".py",
      "mimetype": "text/x-python",
      "name": "python",
      "nbconvert_exporter": "python",
      "pygments_lexer": "ipython3",
      "version": "3.9.7"
    }
  },
  "nbformat": 4,
  "nbformat_minor": 0
}